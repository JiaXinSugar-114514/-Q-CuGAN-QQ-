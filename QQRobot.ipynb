{
 "cells": [
  {
   "cell_type": "code",
   "execution_count": null,
   "id": "2b16a72e",
   "metadata": {
    "scrolled": true
   },
   "outputs": [],
   "source": [
    "from flask import Flask, request\n",
    "from gevent import pywsgi\n",
    "from post import keyword\n",
    "from ctypes import *\n",
    "app = Flask(__name__)\n",
    "@app.route('/',methods=['POST'])\n",
    "def post_data():\n",
    "    if request.get_json().get('message_type') == 'private':  # 私聊信息\n",
    "        uid = request.get_json().get('sender').get('user_id')  # 获取信息发送者的 QQ号码\n",
    "        message = request.get_json().get('raw_message')  # 获取原始信息\n",
    "        keyword(message, uid)  # 将 Q号和原始信息传到我们的后台\n",
    "    if request.get_json().get('message_type') == 'group':  # 如果是群聊信息\n",
    "        gid = request.get_json().get('group_id')  # 获取群号\n",
    "        uid = request.get_json().get('sender').get('user_id')  # 获取信息发送者的 QQ号码\n",
    "        message = request.get_json().get('raw_message')  # 获取原始信息\n",
    "        keyword(message, uid, gid)  # 将 Q号和原始信息传到我们的后台\n",
    "    return \"None\"\n",
    "if __name__ == '__main__':\n",
    "    server = pywsgi.WSGIServer(('127.0.0.1', 5701), app)\n",
    "    server.serve_forever()"
   ]
  },
  {
   "cell_type": "code",
   "execution_count": null,
   "id": "837453ba",
   "metadata": {},
   "outputs": [],
   "source": []
  }
 ],
 "metadata": {
  "kernelspec": {
   "display_name": "Python 3 (ipykernel)",
   "language": "python",
   "name": "python3"
  },
  "language_info": {
   "codemirror_mode": {
    "name": "ipython",
    "version": 3
   },
   "file_extension": ".py",
   "mimetype": "text/x-python",
   "name": "python",
   "nbconvert_exporter": "python",
   "pygments_lexer": "ipython3",
   "version": "3.9.12"
  }
 },
 "nbformat": 4,
 "nbformat_minor": 5
}
